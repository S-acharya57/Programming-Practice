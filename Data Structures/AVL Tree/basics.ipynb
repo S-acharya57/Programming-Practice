{
 "cells": [
  {
   "cell_type": "markdown",
   "metadata": {},
   "source": [
    "### AVL Tree\n",
    "\n",
    "- Balanced Binary Search Tree\n",
    "- Balanced Factor: -1, 0, +1\n",
    "\n",
    "$$\n",
    "Balance\\ Factor = (Height\\ of\\ Left\\ Subtree\\ -\\ Height\\ of\\ Right\\ Subtree)\n",
    "$$\n",
    "\n",
    "\n",
    "#### ** Rotating the subtrees in an AVL Tree\n",
    "- LR\n",
    "- RR\n",
    "- LRR\n",
    "- RLR"
   ]
  },
  {
   "cell_type": "code",
   "execution_count": 12,
   "metadata": {},
   "outputs": [],
   "source": [
    "import matplotlib.pyplot as plt \n",
    "import networkx as nx "
   ]
  },
  {
   "cell_type": "code",
   "execution_count": 13,
   "metadata": {},
   "outputs": [],
   "source": [
    "class Node:\n",
    "    def __init__(self, element):\n",
    "        self.element = element\n",
    "        self.left = None\n",
    "        self.right = None\n",
    "        self.height = 1"
   ]
  },
  {
   "cell_type": "code",
   "execution_count": 27,
   "metadata": {},
   "outputs": [],
   "source": [
    "class AVLTree:\n",
    "\n",
    "    def _get_height(self, node):\n",
    "        if not node:\n",
    "            return 0 \n",
    "        else:\n",
    "            return node.height \n",
    "\n",
    "\n",
    "    def _get_balance_factor(self, node):\n",
    "        if not node:\n",
    "            return 0\n",
    "        \n",
    "        return self._get_height(node.left) - self._get_height(node.right)\n",
    "    \n",
    "\n",
    "\n",
    "    def _right_rotate(self, y):\n",
    "        x = y.left\n",
    "        T2 = x.right\n",
    "\n",
    "        x.right = y\n",
    "        y.left = T2\n",
    "\n",
    "        y.height = 1 + max(self._get_height(y.left), self._get_height(y.right))\n",
    "        x.height = 1 + max(self._get_height(x.left), self._get_height(x.right))\n",
    "\n",
    "        return x\n",
    "\n",
    "\n",
    "    def _left_rotate(self, x):\n",
    "        y = x.right\n",
    "        T2 = y.left \n",
    "\n",
    "        # rotation\n",
    "        y.left = x\n",
    "        x.right = T2\n",
    "\n",
    "        y.height = 1 + max(self._get_height(y.left), self._get_height(y.right))\n",
    "        x.height = 1 + max(self._get_height(x.left), self._get_height(x.right))\n",
    "\n",
    "        return x \n",
    "\n",
    "    def insert(self, root, element):\n",
    "        if not root:\n",
    "            return Node(element)\n",
    "        \n",
    "        elif element<root.element:\n",
    "            root.left = self.insert(root.right, element)\n",
    "\n",
    "        else:\n",
    "            root.right = self.insert(root.left, element)\n",
    "\n",
    "\n",
    "        root.height = 1 + max(self._get_height(root.left), self._get_height(root.right))\n",
    "\n",
    "\n",
    "        balance_factor = self._get_balance_factor(root)\n",
    "        \n",
    "        if balance_factor>1 and element < root.left.element:\n",
    "            return self._left_rotate(root)\n",
    "        \n",
    "        if balance_factor < -1 and element > root.right.element:\n",
    "            return self._left_rotate(root)\n",
    "\n",
    "        \n",
    "        if balance_factor > 1 and element > root.left.element:\n",
    "            root.left = self._left_rotate(root.left)\n",
    "            return self._right_rotate(root)\n",
    "\n",
    "        \n",
    "        if balance_factor < -1 and element < root.right.element:\n",
    "            root.right = self._right_rotate(root.right)\n",
    "            return self._left_rotate(root)\n",
    "\n",
    "        return root\n",
    "    \n",
    "\n",
    "\n",
    "    def pre_order(self, root):\n",
    "        if not root:\n",
    "            return\n",
    "        print(root.element, end=\" \")\n",
    "        self.pre_order(root.left)\n",
    "        self.pre_order(root.right)\n",
    "\n"
   ]
  },
  {
   "cell_type": "code",
   "execution_count": 28,
   "metadata": {},
   "outputs": [
    {
     "data": {
      "text/plain": [
       "<__main__.AVLTree at 0x10b883c8640>"
      ]
     },
     "execution_count": 28,
     "metadata": {},
     "output_type": "execute_result"
    }
   ],
   "source": [
    "avl = AVLTree()\n",
    "root = None\n",
    "\n",
    "# Insert elements into the tree\n",
    "keys = [10, 20, 30, 40, 50, 25]\n",
    "avl "
   ]
  },
  {
   "cell_type": "code",
   "execution_count": 29,
   "metadata": {},
   "outputs": [
    {
     "name": "stdout",
     "output_type": "stream",
     "text": [
      "\n",
      "adding key:10\n",
      "10 \n",
      "adding key:20\n",
      "10 20 \n",
      "adding key:30\n",
      "10 30 \n",
      "adding key:40\n",
      "10 40 \n",
      "adding key:50\n",
      "10 50 \n",
      "adding key:25\n",
      "10 25 "
     ]
    }
   ],
   "source": [
    "for key in keys:\n",
    "    root = avl.insert(root, key)\n",
    "    print(f'\\nadding key:{key}')\n",
    "    avl.pre_order(root)\n",
    "\n",
    "    "
   ]
  },
  {
   "cell_type": "code",
   "execution_count": null,
   "metadata": {},
   "outputs": [],
   "source": []
  },
  {
   "cell_type": "code",
   "execution_count": null,
   "metadata": {},
   "outputs": [],
   "source": []
  }
 ],
 "metadata": {
  "kernelspec": {
   "display_name": "ml",
   "language": "python",
   "name": "python3"
  },
  "language_info": {
   "codemirror_mode": {
    "name": "ipython",
    "version": 3
   },
   "file_extension": ".py",
   "mimetype": "text/x-python",
   "name": "python",
   "nbconvert_exporter": "python",
   "pygments_lexer": "ipython3",
   "version": "3.10.14"
  }
 },
 "nbformat": 4,
 "nbformat_minor": 2
}
