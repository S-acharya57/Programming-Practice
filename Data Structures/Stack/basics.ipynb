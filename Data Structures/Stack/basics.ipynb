{
 "cells": [
  {
   "cell_type": "markdown",
   "metadata": {},
   "source": [
    "## Basics\n",
    "\n",
    "- Principle of Stack: LIFO (Last In, First Out)\n",
    "- push and pop\n",
    "- push, pop, isEmpty, isFull, Peek\n"
   ]
  },
  {
   "cell_type": "code",
   "execution_count": 17,
   "metadata": {},
   "outputs": [],
   "source": [
    "class StackDS:\n",
    "    def __init__(self):\n",
    "        self.stack = []\n",
    "         \n",
    "    \n",
    "    def push(self, item):\n",
    "        self.stack.append(item)\n",
    "        print(f'{item} is pushed.')\n",
    "\n",
    "    def isEmpty(self):\n",
    "        return len(self.stack)==0 \n",
    "\n",
    "    def pop(self):\n",
    "        if(self.isEmpty()):\n",
    "            print(f'Stack is empty')\n",
    "            return -1\n",
    "        last = self.stack[-1]\n",
    "        print(f'{last} is popped!')\n",
    "        self.stack = self.stack[:len(self.stack)-1]\n",
    "        return last\n",
    "\n",
    "    def displayAll(self):\n",
    "        print(f'{[element for element in self.stack]} ')"
   ]
  },
  {
   "cell_type": "code",
   "execution_count": 22,
   "metadata": {},
   "outputs": [
    {
     "name": "stdout",
     "output_type": "stream",
     "text": [
      "3 is pushed.\n",
      "13 is pushed.\n",
      "2 is pushed.\n",
      "4 is pushed.\n",
      "[3, 13, 2, 4] \n"
     ]
    }
   ],
   "source": [
    "stack1 = StackDS()\n",
    "stack1.push(3)\n",
    "stack1.push(13)\n",
    "stack1.push(2)\n",
    "stack1.push(4)\n",
    "stack1.displayAll()"
   ]
  },
  {
   "cell_type": "code",
   "execution_count": 23,
   "metadata": {},
   "outputs": [
    {
     "name": "stdout",
     "output_type": "stream",
     "text": [
      "[3, 13, 2, 4] \n",
      "4 is popped!\n",
      "[3, 13, 2] \n"
     ]
    }
   ],
   "source": [
    "stack1.displayAll()\n",
    "stack1.pop()\n",
    "stack1.displayAll()"
   ]
  },
  {
   "cell_type": "code",
   "execution_count": null,
   "metadata": {},
   "outputs": [],
   "source": []
  },
  {
   "cell_type": "code",
   "execution_count": null,
   "metadata": {},
   "outputs": [],
   "source": []
  }
 ],
 "metadata": {
  "kernelspec": {
   "display_name": "ml",
   "language": "python",
   "name": "python3"
  },
  "language_info": {
   "codemirror_mode": {
    "name": "ipython",
    "version": 3
   },
   "file_extension": ".py",
   "mimetype": "text/x-python",
   "name": "python",
   "nbconvert_exporter": "python",
   "pygments_lexer": "ipython3",
   "version": "3.10.14"
  }
 },
 "nbformat": 4,
 "nbformat_minor": 2
}
