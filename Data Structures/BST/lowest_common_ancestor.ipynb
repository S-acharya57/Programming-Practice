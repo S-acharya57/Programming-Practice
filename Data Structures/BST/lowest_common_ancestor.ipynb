{
 "cells": [
  {
   "cell_type": "code",
   "execution_count": 1,
   "metadata": {},
   "outputs": [],
   "source": [
    "import bst \n",
    "import numpy as np "
   ]
  },
  {
   "cell_type": "markdown",
   "metadata": {},
   "source": [
    "The lowest common ancestor between two nodes n1 and n2 is defined as the lowest node in T that has both n1 and n2 as descendants (where we allow a node to be a descendant of itself). "
   ]
  },
  {
   "cell_type": "code",
   "execution_count": 2,
   "metadata": {},
   "outputs": [
    {
     "name": "stdout",
     "output_type": "stream",
     "text": [
      "[14 18 87 70 21 15 29 83 59 13 98 31 15 90 87]\n",
      "root-> 14\n",
      "Inserting 18\n",
      "Inserting 87\n",
      "Inserting 70\n",
      "Inserting 21\n",
      "Inserting 15\n",
      "Inserting 29\n",
      "Inserting 83\n",
      "Inserting 59\n",
      "Inserting 13\n",
      "Inserting 98\n",
      "Inserting 31\n",
      "Inserting 15\n",
      "Inserting 90\n",
      "Inserting 87\n"
     ]
    }
   ],
   "source": [
    "root = bst.randomize_BST(num=15)"
   ]
  },
  {
   "cell_type": "code",
   "execution_count": 11,
   "metadata": {},
   "outputs": [],
   "source": [
    "def LCA(root:bst.TreeNode, num1:int, num2:int)->int:\n",
    "    \"\"\"Function to get the lowest common ancestor of two nodes of a BST\n",
    "\n",
    "    Arguments:\n",
    "        num1 -- a number \n",
    "        num2 -- another number to get LCA\n",
    "\n",
    "    Returns:\n",
    "        Lowest Common Ancestor of num1 and num2 \n",
    "    \"\"\"\n",
    "    if(root.data > num1) and (root.data>num2) and root.left:\n",
    "        print(f'Calling LCA for {root.left.data, num1, num2}')\n",
    "        return LCA(root.left, num1, num2)\n",
    "    \n",
    "    if(root.data < num1) and (root.data<num2) and root.right: \n",
    "        print(f'Calling LCA for {root.right.data, num1, num2}')\n",
    "        return LCA(root.right, num1, num2)\n",
    "    \n",
    "    return root.data "
   ]
  },
  {
   "cell_type": "code",
   "execution_count": 12,
   "metadata": {},
   "outputs": [
    {
     "name": "stdout",
     "output_type": "stream",
     "text": [
      "Calling LCA for (13, 5, 10)\n"
     ]
    },
    {
     "data": {
      "text/plain": [
       "13"
      ]
     },
     "execution_count": 12,
     "metadata": {},
     "output_type": "execute_result"
    }
   ],
   "source": [
    "LCA(root, 5,10)"
   ]
  },
  {
   "cell_type": "code",
   "execution_count": 13,
   "metadata": {},
   "outputs": [
    {
     "name": "stdout",
     "output_type": "stream",
     "text": [
      "Calling LCA for (18, 59, 83)\n",
      "Calling LCA for (87, 59, 83)\n",
      "Calling LCA for (70, 59, 83)\n"
     ]
    },
    {
     "data": {
      "text/plain": [
       "70"
      ]
     },
     "execution_count": 13,
     "metadata": {},
     "output_type": "execute_result"
    }
   ],
   "source": [
    "LCA(root, 59,83)"
   ]
  }
 ],
 "metadata": {
  "kernelspec": {
   "display_name": "ml",
   "language": "python",
   "name": "python3"
  },
  "language_info": {
   "codemirror_mode": {
    "name": "ipython",
    "version": 3
   },
   "file_extension": ".py",
   "mimetype": "text/x-python",
   "name": "python",
   "nbconvert_exporter": "python",
   "pygments_lexer": "ipython3",
   "version": "3.10.9"
  }
 },
 "nbformat": 4,
 "nbformat_minor": 2
}
