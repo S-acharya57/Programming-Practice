{
 "cells": [
  {
   "cell_type": "markdown",
   "metadata": {},
   "source": [
    "## This notebook contains the implementation of binary search tree in python"
   ]
  },
  {
   "cell_type": "markdown",
   "metadata": {},
   "source": [
    "### Rules: \n",
    "- The X node's left child and all of its descendants (children, children's children, and so on) have lower values than X's value.\n",
    "- The right child, and all its descendants have higher values than X's value.\n",
    "- Left and right subtrees must also be Binary Search Trees."
   ]
  },
  {
   "cell_type": "code",
   "execution_count": 19,
   "metadata": {},
   "outputs": [],
   "source": [
    "class TreeNode:\n",
    "    def __init__(self, data):\n",
    "        self.data = data \n",
    "        self.left = None \n",
    "        self.right = None \n"
   ]
  },
  {
   "cell_type": "code",
   "execution_count": 20,
   "metadata": {},
   "outputs": [],
   "source": [
    "def inOrderTraversal(node):\n",
    "    if node is None:\n",
    "        return \n",
    "    inOrderTraversal(node.left)\n",
    "    print(node.data, end=', ')\n",
    "    inOrderTraversal(node.right)"
   ]
  },
  {
   "cell_type": "code",
   "execution_count": 21,
   "metadata": {},
   "outputs": [],
   "source": [
    "root = TreeNode(13)\n",
    "node7 = TreeNode(7)\n",
    "node15 = TreeNode(15)\n",
    "node3 = TreeNode(3)\n",
    "node8 = TreeNode(8)\n",
    "node14 = TreeNode(14)\n",
    "node19 = TreeNode(19)\n",
    "node18 = TreeNode(18)\n",
    "\n",
    "root.left = node7\n",
    "root.right = node15\n",
    "\n",
    "node7.left = node3\n",
    "node7.right = node8\n",
    "\n",
    "node15.left = node14\n",
    "node15.right = node19\n",
    "\n",
    "node19.left = node18"
   ]
  },
  {
   "cell_type": "code",
   "execution_count": 22,
   "metadata": {},
   "outputs": [
    {
     "name": "stdout",
     "output_type": "stream",
     "text": [
      "3, 7, 8, 13, 14, 15, 18, 19, "
     ]
    }
   ],
   "source": [
    "inOrderTraversal(root)"
   ]
  },
  {
   "cell_type": "code",
   "execution_count": 23,
   "metadata": {},
   "outputs": [],
   "source": [
    "def search(node, target):\n",
    "    if node is None:\n",
    "        return None \n",
    "    elif node.data == target:\n",
    "        return node\n",
    "    elif target < node.data:\n",
    "        return search(node.left, target)\n",
    "    else:\n",
    "        return search(node.right, target)\n",
    "    \n",
    "def insert(node, data):\n",
    "    if node is None:\n",
    "        return TreeNode(data)\n",
    "    else:\n",
    "        if data < node.data:\n",
    "            node.left = insert(node.left, data)\n",
    "        elif data > node.data:\n",
    "            node.right = insert(node.right, data)\n",
    "    return node"
   ]
  },
  {
   "cell_type": "code",
   "execution_count": 24,
   "metadata": {},
   "outputs": [
    {
     "name": "stdout",
     "output_type": "stream",
     "text": [
      "3, 7, 8, 13, 14, 15, 16, 18, 19, "
     ]
    }
   ],
   "source": [
    "# search(root, 3).data \n",
    "insert(root, 16)\n",
    "inOrderTraversal(root)"
   ]
  },
  {
   "cell_type": "code",
   "execution_count": 25,
   "metadata": {},
   "outputs": [],
   "source": [
    "def minValueNode(node):\n",
    "    current = node\n",
    "    while current.left is not None:\n",
    "        current = current.left\n",
    "    return current\n",
    "\n",
    "def delete(node, data):\n",
    "    if not node:\n",
    "        return None\n",
    "\n",
    "    if data < node.data:\n",
    "        node.left = delete(node.left, data)\n",
    "    elif data > node.data:\n",
    "        node.right = delete(node.right, data)\n",
    "    else:\n",
    "        # Node with only one child or no child\n",
    "        if not node.left:\n",
    "            temp = node.right\n",
    "            node = None\n",
    "            return temp\n",
    "        elif not node.right:\n",
    "            temp = node.left\n",
    "            node = None\n",
    "            return temp\n",
    "\n",
    "        # Node with two children, get the in-order successor\n",
    "        node.data = minValueNode(node.right).data\n",
    "        node.right = delete(node.right, node.data)\n",
    "\n",
    "    return node"
   ]
  },
  {
   "cell_type": "code",
   "execution_count": 26,
   "metadata": {},
   "outputs": [],
   "source": [
    "root = TreeNode(13)\n",
    "node7 = TreeNode(7)\n",
    "node15 = TreeNode(15)\n",
    "node3 = TreeNode(3)\n",
    "node8 = TreeNode(8)\n",
    "node14 = TreeNode(14)\n",
    "node19 = TreeNode(19)\n",
    "node18 = TreeNode(18)\n",
    "\n",
    "root.left = node7\n",
    "root.right = node15\n",
    "\n",
    "node7.left = node3\n",
    "node7.right = node8\n",
    "\n",
    "node15.left = node14\n",
    "node15.right = node19\n",
    "\n",
    "node19.left = node18"
   ]
  },
  {
   "cell_type": "code",
   "execution_count": 27,
   "metadata": {},
   "outputs": [
    {
     "name": "stdout",
     "output_type": "stream",
     "text": [
      "3, 7, 8, 13, 14, 15, 18, 19, \n",
      "3, 7, 8, 13, 14, 15, 18, 19, 23, 200, \n",
      "3, 7, 8, 13, 14, 15, 19, 23, 200, "
     ]
    }
   ],
   "source": [
    "inOrderTraversal(root)\n",
    "insert(root, 18)\n",
    "insert(root, 200)\n",
    "\n",
    "insert(root, 23)\n",
    "print() \n",
    "\n",
    "inOrderTraversal(root) \n",
    "\n",
    "print() \n",
    "delete(root, 18)\n",
    "inOrderTraversal(root)"
   ]
  },
  {
   "cell_type": "code",
   "execution_count": 28,
   "metadata": {},
   "outputs": [],
   "source": [
    "import numpy as np "
   ]
  },
  {
   "cell_type": "code",
   "execution_count": 29,
   "metadata": {},
   "outputs": [
    {
     "data": {
      "text/plain": [
       "array([[71,  6,  3,  8, 61, 72, 74, 22, 34, 61]])"
      ]
     },
     "execution_count": 29,
     "metadata": {},
     "output_type": "execute_result"
    }
   ],
   "source": [
    "np.random.randint(0, 100, (1, 10))"
   ]
  },
  {
   "cell_type": "code",
   "execution_count": 43,
   "metadata": {},
   "outputs": [],
   "source": [
    "def randomize(num):\n",
    "    nums = np.random.randint(0, 100, (1, num))\n",
    "    nums = nums.flatten()\n",
    "    print(nums) \n",
    "    root = TreeNode(nums[0])\n",
    "    print(f'root-> {root.data}')\n",
    "    for i in range(1, len(nums)):\n",
    "        print(f'Inserting {nums[i]}')\n",
    "        insert(root, nums[i])\n",
    "    return root "
   ]
  },
  {
   "cell_type": "code",
   "execution_count": 44,
   "metadata": {},
   "outputs": [
    {
     "name": "stdout",
     "output_type": "stream",
     "text": [
      "[57 11 74 79 22 47 21  0 72  1]\n",
      "root-> 57\n",
      "Inserting 11\n",
      "Inserting 74\n",
      "Inserting 79\n",
      "Inserting 22\n",
      "Inserting 47\n",
      "Inserting 21\n",
      "Inserting 0\n",
      "Inserting 72\n",
      "Inserting 1\n",
      "0, 1, 11, 21, 22, 47, 57, 72, 74, 79, "
     ]
    }
   ],
   "source": [
    "inOrderTraversal(randomize(10)) "
   ]
  },
  {
   "cell_type": "code",
   "execution_count": 1,
   "metadata": {},
   "outputs": [],
   "source": [
    "import bst"
   ]
  },
  {
   "cell_type": "code",
   "execution_count": 3,
   "metadata": {},
   "outputs": [
    {
     "name": "stdout",
     "output_type": "stream",
     "text": [
      "[29 28 18 77 73 81 49 26  2  6 77 78 62 29 32  3 67 55 87  8 21 83 95 87\n",
      "  3 16 49 66 18 58 53 99  8 96 82 38 68 94 48 73 95  5 21 53 81 87  9 73\n",
      "  3 56]\n",
      "root-> 29\n",
      "Inserting 28\n",
      "Inserting 18\n",
      "Inserting 77\n",
      "Inserting 73\n",
      "Inserting 81\n",
      "Inserting 49\n",
      "Inserting 26\n",
      "Inserting 2\n",
      "Inserting 6\n",
      "Inserting 77\n",
      "Inserting 78\n",
      "Inserting 62\n",
      "Inserting 29\n",
      "Inserting 32\n",
      "Inserting 3\n",
      "Inserting 67\n",
      "Inserting 55\n",
      "Inserting 87\n",
      "Inserting 8\n",
      "Inserting 21\n",
      "Inserting 83\n",
      "Inserting 95\n",
      "Inserting 87\n",
      "Inserting 3\n",
      "Inserting 16\n",
      "Inserting 49\n",
      "Inserting 66\n",
      "Inserting 18\n",
      "Inserting 58\n",
      "Inserting 53\n",
      "Inserting 99\n",
      "Inserting 8\n",
      "Inserting 96\n",
      "Inserting 82\n",
      "Inserting 38\n",
      "Inserting 68\n",
      "Inserting 94\n",
      "Inserting 48\n",
      "Inserting 73\n",
      "Inserting 95\n",
      "Inserting 5\n",
      "Inserting 21\n",
      "Inserting 53\n",
      "Inserting 81\n",
      "Inserting 87\n",
      "Inserting 9\n",
      "Inserting 73\n",
      "Inserting 3\n",
      "Inserting 56\n"
     ]
    }
   ],
   "source": [
    "root = bst.randomize_BST(50) "
   ]
  },
  {
   "cell_type": "code",
   "execution_count": 4,
   "metadata": {},
   "outputs": [
    {
     "name": "stdout",
     "output_type": "stream",
     "text": [
      "2, 3, 5, 6, 8, 9, 16, 18, 21, 26, 28, 29, 32, 38, 48, 49, 53, 55, 56, 58, 62, 66, 67, 68, 73, 77, 78, 81, 82, 83, 87, 94, 95, 96, 99, "
     ]
    }
   ],
   "source": [
    "bst.inOrderTraversal(root) "
   ]
  },
  {
   "cell_type": "code",
   "execution_count": 46,
   "metadata": {},
   "outputs": [
    {
     "name": "stdout",
     "output_type": "stream",
     "text": [
      "Help on function randomize_BST in module bst:\n",
      "\n",
      "randomize_BST(num)\n",
      "    Returns a root of a BST with random numbers\n",
      "    \n",
      "    Arguments:\n",
      "        num -- total number of elements in the BST\n",
      "\n"
     ]
    }
   ],
   "source": [
    "help(bst.randomize_BST)"
   ]
  },
  {
   "cell_type": "code",
   "execution_count": null,
   "metadata": {},
   "outputs": [],
   "source": []
  }
 ],
 "metadata": {
  "kernelspec": {
   "display_name": "ml",
   "language": "python",
   "name": "python3"
  },
  "language_info": {
   "codemirror_mode": {
    "name": "ipython",
    "version": 3
   },
   "file_extension": ".py",
   "mimetype": "text/x-python",
   "name": "python",
   "nbconvert_exporter": "python",
   "pygments_lexer": "ipython3",
   "version": "3.10.9"
  }
 },
 "nbformat": 4,
 "nbformat_minor": 2
}
