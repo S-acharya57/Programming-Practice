{
 "cells": [
  {
   "cell_type": "markdown",
   "metadata": {},
   "source": [
    "## Two pointers\n",
    "\n",
    "- Method used for searching pairs in a sorted array \n",
    "- if there exists any pair of elements (A[i], A[j]) such that their sum is equal to X"
   ]
  },
  {
   "cell_type": "code",
   "execution_count": 1,
   "metadata": {},
   "outputs": [],
   "source": [
    "def isPair(A, N, X):\n",
    "    \"\"\"Function to find if there is a pair in A with given sum X\n",
    "\n",
    "    Arguments:\n",
    "        A -- Array \n",
    "        N -- Number of elements in the array A\n",
    "        X -- Sum to search for\n",
    "    \"\"\"\n",
    "    for i in range(N):\n",
    "        for j in range(N):\n",
    "            if(i==j):\n",
    "                continue \n",
    "            if(A[i]+A[j] == X):\n",
    "                return True \n",
    "            # if all elements are checked and sum is not found\n",
    "            if(A[i]+A[j]>X):\n",
    "                break\n",
    "\n",
    "    return False "
   ]
  },
  {
   "cell_type": "code",
   "execution_count": 3,
   "metadata": {},
   "outputs": [
    {
     "name": "stdout",
     "output_type": "stream",
     "text": [
      "False\n"
     ]
    }
   ],
   "source": [
    "A = [2,3,5,7,9,12,23,45]\n",
    "N = len(A)\n",
    "X = 22\n",
    "print(isPair(A, N, X))"
   ]
  },
  {
   "cell_type": "markdown",
   "metadata": {},
   "source": [
    "## Two pointers technique\n",
    "\n",
    "- 1 pointer on beginning of array\n",
    "- 1 pointer on the end of the array \n",
    "- add the values on those 2 pointers\n",
    "- If sum>X, shift right pointer to left\n",
    "- if sum<x shift left pointer to right"
   ]
  },
  {
   "cell_type": "code",
   "execution_count": 4,
   "metadata": {},
   "outputs": [],
   "source": [
    "def isPairPointers(A,N,X):\n",
    "    \"\"\"Function to find if there is a pair in A with given sum X\n",
    "       Uses the two pointers technique\n",
    "\n",
    "    Arguments:\n",
    "        A -- Array \n",
    "        N -- Number of elements in the array A\n",
    "        X -- Sum to search for\n",
    "    \"\"\"\n",
    "    # first pointer\n",
    "    i = 0\n",
    "    \n",
    "    # second pointer pointing to the last of the array\n",
    "    j = N-1 \n",
    "\n",
    "    while i<j:\n",
    "        if(A[i]+A[j]<X):\n",
    "            i += 1 \n",
    "        elif(A[i]+A[j]>X):\n",
    "            N -= 1 \n",
    "        else: \n",
    "            return True \n",
    "    \n",
    "    return False \n"
   ]
  },
  {
   "cell_type": "code",
   "execution_count": 12,
   "metadata": {},
   "outputs": [],
   "source": [
    "import numpy as np \n",
    "\n",
    "A = sorted(np.random.randn(30000))\n",
    "N = len(A)\n",
    "X = 22"
   ]
  },
  {
   "cell_type": "code",
   "execution_count": 13,
   "metadata": {},
   "outputs": [
    {
     "name": "stdout",
     "output_type": "stream",
     "text": [
      "False\n",
      "CPU times: total: 15.6 ms\n",
      "Wall time: 12 ms\n"
     ]
    }
   ],
   "source": [
    "%%time \n",
    "print(isPairPointers(A, N, X))"
   ]
  },
  {
   "cell_type": "code",
   "execution_count": 14,
   "metadata": {},
   "outputs": [
    {
     "name": "stdout",
     "output_type": "stream",
     "text": [
      "False\n",
      "CPU times: total: 13min 35s\n",
      "Wall time: 13min 38s\n"
     ]
    }
   ],
   "source": [
    "%%time \n",
    "print(isPair(A, N, X))"
   ]
  },
  {
   "cell_type": "markdown",
   "metadata": {},
   "source": [
    "With two pointers, it takes 15ms but without it, it takes 13 minutes."
   ]
  },
  {
   "cell_type": "code",
   "execution_count": null,
   "metadata": {},
   "outputs": [],
   "source": []
  }
 ],
 "metadata": {
  "kernelspec": {
   "display_name": "ml",
   "language": "python",
   "name": "python3"
  },
  "language_info": {
   "codemirror_mode": {
    "name": "ipython",
    "version": 3
   },
   "file_extension": ".py",
   "mimetype": "text/x-python",
   "name": "python",
   "nbconvert_exporter": "python",
   "pygments_lexer": "ipython3",
   "version": "3.10.14"
  }
 },
 "nbformat": 4,
 "nbformat_minor": 2
}
