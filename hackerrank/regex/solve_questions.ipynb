{
 "cells": [
  {
   "cell_type": "markdown",
   "metadata": {},
   "source": [
    "The negated character class [^] matches any character that is not in the square brackets. \\\n",
    "You have a test string .\n",
    "\n",
    "Your task is to write a regex that will match  with the following conditions:\n",
    "- must be of length 6.\n",
    "- First character should not be a digit .\n",
    "- Second character should not be a lowercase vowel .\n",
    "- Third character should not be b, c, D or F.\n",
    "- Fourth character should not be a whitespace character ( \\r, \\n, \\t, \\f or <space> ).\n",
    "- Fifth character should not be a uppercase vowel .\n",
    "- Sixth character should not be a . or , symbol."
   ]
  },
  {
   "cell_type": "code",
   "execution_count": 10,
   "metadata": {},
   "outputs": [
    {
     "name": "stdout",
     "output_type": "stream",
     "text": [
      "true\n"
     ]
    }
   ],
   "source": [
    "import re \n",
    "\n",
    "Regex_Pattern = '\\D[^aeiou][^bcDF][^\\r\\n\\t\\f\\s][^AEIOU][^\\.\\,]$' \n",
    "print(str(bool(re.search(Regex_Pattern, input()))).lower())"
   ]
  },
  {
   "cell_type": "markdown",
   "metadata": {},
   "source": [
    "Task\n",
    "\n",
    "Write a RegEx that will match a string satisfying the following conditions:\n",
    "\n",
    "- The string's length is .\n",
    "- The first character must be a lowercase English alphabetic character.\n",
    "- The second character must be a positive digit. Note that we consider zero to be neither positive nor negative.\n",
    "- The third character must not be a lowercase English alphabetic character.\n",
    "- The fourth character must not be an uppercase English alphabetic character.\n",
    "- The fifth character must be an uppercase English alphabetic character.\n",
    "In the editor below, replace the blank (_________) with a RegEx pattern satisfying the criteria above.\n"
   ]
  },
  {
   "cell_type": "code",
   "execution_count": 21,
   "metadata": {},
   "outputs": [
    {
     "name": "stdout",
     "output_type": "stream",
     "text": [
      "true\n"
     ]
    }
   ],
   "source": [
    "Regex_Pattern = r'[a-z][0-9]*[^a-z][^A-Z][A-Z]'\n",
    "\n",
    "print(str(bool(re.search(Regex_Pattern, input()))).lower())"
   ]
  },
  {
   "cell_type": "code",
   "execution_count": null,
   "metadata": {},
   "outputs": [],
   "source": []
  }
 ],
 "metadata": {
  "kernelspec": {
   "display_name": "Python 3",
   "language": "python",
   "name": "python3"
  },
  "language_info": {
   "codemirror_mode": {
    "name": "ipython",
    "version": 3
   },
   "file_extension": ".py",
   "mimetype": "text/x-python",
   "name": "python",
   "nbconvert_exporter": "python",
   "pygments_lexer": "ipython3",
   "version": "3.11.4"
  }
 },
 "nbformat": 4,
 "nbformat_minor": 2
}
