{
 "cells": [
  {
   "cell_type": "markdown",
   "id": "7e3acea3-00b1-410a-a679-0a1169b92a6e",
   "metadata": {},
   "source": [
    "## Grading students "
   ]
  },
  {
   "cell_type": "code",
   "execution_count": 16,
   "id": "a18a58eb-be78-4e12-ba06-09aab9a055d1",
   "metadata": {},
   "outputs": [],
   "source": [
    "import math\n",
    "import os\n",
    "import random\n",
    "import re\n",
    "import sys\n"
   ]
  },
  {
   "cell_type": "code",
   "execution_count": 36,
   "id": "05900331-41c2-4078-9897-6f2ed1d0e194",
   "metadata": {},
   "outputs": [],
   "source": [
    "def next_multiple(num):\n",
    "    divisor_ = num//5 \n",
    "    return (divisor_+1) * 5\n",
    "\n",
    "def gradingStudents(grades):\n",
    "    # Write your code here\n",
    "    final_grades = []\n",
    "    for grade in grades:\n",
    "        next_ = next_multiple(grade)\n",
    "        print(f'Next is {next_}')\n",
    "        if next_-grade<3 and grade>37:\n",
    "            print('Added next_')\n",
    "            final_grades.append(next_)\n",
    "            print(f'Final grades is {final_grades}')\n",
    "        else:\n",
    "            final_grades.append(grade) \n",
    "            \n",
    "    return final_grades"
   ]
  },
  {
   "cell_type": "code",
   "execution_count": 37,
   "id": "23632359-f696-4a3a-913c-c91c956079ce",
   "metadata": {},
   "outputs": [
    {
     "data": {
      "text/plain": [
       "False"
      ]
     },
     "execution_count": 37,
     "metadata": {},
     "output_type": "execute_result"
    }
   ],
   "source": [
    "75-73<3 & 73>38 "
   ]
  },
  {
   "cell_type": "code",
   "execution_count": 38,
   "id": "e31a87ad-5be6-4685-b32e-e00b5697e787",
   "metadata": {},
   "outputs": [
    {
     "name": "stdin",
     "output_type": "stream",
     "text": [
      " 1\n",
      " 38\n"
     ]
    },
    {
     "name": "stdout",
     "output_type": "stream",
     "text": [
      "Next is 40\n",
      "Added next_\n",
      "Final grades is [40]\n",
      "40\n"
     ]
    }
   ],
   "source": [
    "grades_count = int(input().strip())\n",
    "\n",
    "grades = []\n",
    "\n",
    "for _ in range(grades_count):\n",
    "    grades_item = int(input().strip())\n",
    "    grades.append(grades_item)\n",
    "\n",
    "result = gradingStudents(grades)\n",
    "\n",
    "print('\\n'.join(map(str, result)))"
   ]
  },
  {
   "cell_type": "code",
   "execution_count": null,
   "id": "e5d28e5f-a56b-4605-ae3a-8966eee3ef77",
   "metadata": {},
   "outputs": [],
   "source": []
  }
 ],
 "metadata": {
  "kernelspec": {
   "display_name": "Python 3 (ipykernel)",
   "language": "python",
   "name": "python3"
  },
  "language_info": {
   "codemirror_mode": {
    "name": "ipython",
    "version": 3
   },
   "file_extension": ".py",
   "mimetype": "text/x-python",
   "name": "python",
   "nbconvert_exporter": "python",
   "pygments_lexer": "ipython3",
   "version": "3.11.4"
  }
 },
 "nbformat": 4,
 "nbformat_minor": 5
}
